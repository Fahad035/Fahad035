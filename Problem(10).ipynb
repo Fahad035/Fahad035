{
  "nbformat": 4,
  "nbformat_minor": 0,
  "metadata": {
    "colab": {
      "provenance": [],
      "authorship_tag": "ABX9TyNviEC6cuG5CpduZqjap8cD",
      "include_colab_link": true
    },
    "kernelspec": {
      "name": "python3",
      "display_name": "Python 3"
    },
    "language_info": {
      "name": "python"
    }
  },
  "cells": [
    {
      "cell_type": "markdown",
      "metadata": {
        "id": "view-in-github",
        "colab_type": "text"
      },
      "source": [
        "<a href=\"https://colab.research.google.com/github/Fahad035/Fahad035/blob/main/Problem(10).ipynb\" target=\"_parent\"><img src=\"https://colab.research.google.com/assets/colab-badge.svg\" alt=\"Open In Colab\"/></a>"
      ]
    },
    {
      "cell_type": "markdown",
      "source": [
        "##Given the following data,which specify classifications for nine combinations of VAR1 and VAR2 predict a classification for a case where VAR1=0.906 and VAR2=0.606,using the result of k-means clustering with 3 means."
      ],
      "metadata": {
        "id": "ClkbyPiiGgVH"
      }
    },
    {
      "cell_type": "code",
      "source": [
        "from sklearn.cluster import KMeans\n",
        "import numpy as np\n",
        "x = np.array([[1.713,1.586],[0.180,1.786],[0.353,1.240],[0.940,1.566],[1.486,0.759],[1.266,1.106],[1.540,0.419],[0.459,1.799],[0.773,0.186]])\n",
        "y = np.array([0,1,1,0,1,0,1,1,1])\n",
        "\n",
        "k_means = KMeans(n_clusters=3, random_state=0).fit(x,y)\n",
        "print(\"The input data is\")\n",
        "print(\"VAR1\\tVAR2\\tCLASS\")\n",
        "i = 0\n",
        "for val in x:\n",
        "  print(val[0],\"\\t\",val[1],\"\\t\",y[i])\n",
        "  i+=1\n",
        "print(\"=\"*20)\n",
        "#To get test data from the user\n",
        "print(\"The test data to predict: \")\n",
        "test_data = []\n",
        "VAR1 = float(input(\"Enter value of VAR1: \"))\n",
        "VAR2 = float(input(\"Enter value of VAR2: \"))\n",
        "test_data.append(VAR1)\n",
        "test_data.append(VAR2)\n",
        "print(\"=\"*20)\n",
        "print(\"The predicted class is: \",k_means.predict([test_data]))"
      ],
      "metadata": {
        "colab": {
          "base_uri": "https://localhost:8080/"
        },
        "id": "jXmcqyqOG7Bq",
        "outputId": "7f349b2d-c742-42fa-bc77-309fabc37cb8"
      },
      "execution_count": 3,
      "outputs": [
        {
          "output_type": "stream",
          "name": "stdout",
          "text": [
            "The input data is\n",
            "VAR1\tVAR2\tCLASS\n",
            "1.713 \t 1.586 \t 0\n",
            "0.18 \t 1.786 \t 1\n",
            "0.353 \t 1.24 \t 1\n",
            "0.94 \t 1.566 \t 0\n",
            "1.486 \t 0.759 \t 1\n",
            "1.266 \t 1.106 \t 0\n",
            "1.54 \t 0.419 \t 1\n",
            "0.459 \t 1.799 \t 1\n",
            "0.773 \t 0.186 \t 1\n",
            "====================\n",
            "The test data to predict: \n",
            "Enter value of VAR1: 0.906\n",
            "Enter value of VAR2: 0.405\n",
            "====================\n",
            "The predicted class is:  [0]\n"
          ]
        }
      ]
    }
  ]
}