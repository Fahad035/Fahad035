{
  "nbformat": 4,
  "nbformat_minor": 0,
  "metadata": {
    "colab": {
      "provenance": [],
      "authorship_tag": "ABX9TyP2onfCxM40pqv84GFbBsdZ",
      "include_colab_link": true
    },
    "kernelspec": {
      "name": "python3",
      "display_name": "Python 3"
    },
    "language_info": {
      "name": "python"
    }
  },
  "cells": [
    {
      "cell_type": "markdown",
      "metadata": {
        "id": "view-in-github",
        "colab_type": "text"
      },
      "source": [
        "<a href=\"https://colab.research.google.com/github/Fahad035/Fahad035/blob/main/Problem7(161023748035).ipynb\" target=\"_parent\"><img src=\"https://colab.research.google.com/assets/colab-badge.svg\" alt=\"Open In Colab\"/></a>"
      ]
    },
    {
      "cell_type": "markdown",
      "source": [
        "## Write a program to construct a Bayesian network considering medical data.Use this model to demonstrate the diagnosis of heart patients using standard heart disease dataset."
      ],
      "metadata": {
        "id": "C9vQbveo9Cu_"
      }
    },
    {
      "cell_type": "code",
      "source": [
        "import bayespy as bp\n",
        "import numpy as np\n",
        "import pandas as pd\n",
        "import csv\n",
        "from colorama import init\n",
        "from colorama import Fore, Back, Style\n",
        "init()"
      ],
      "metadata": {
        "id": "RBZIQb9A9qYD"
      },
      "execution_count": 77,
      "outputs": []
    },
    {
      "cell_type": "code",
      "source": [
        "#Define parameters Enumvalues\n",
        "#Age\n",
        "ageEnum = {'SuperSeniorCitizen':0, 'SeniorCitizen':1, 'MiddleAged':2, 'Youth':3, 'Teen':4}\n",
        "#Gender\n",
        "genderEnum = {'Male':0, 'Female':1}\n",
        "#FamilyHistory\n",
        "familyHistoryEnum = {'Yes':0, 'No':1, 'Other': 2} # Added 'Other' category\n",
        "#dietEnum(CalorieIntake)\n",
        "dietEnum = {'High':0, 'Medium':1, 'Low':2}\n",
        "#Lifestyle\n",
        "lifestyleEnum = {'Athlete':0, 'Active':1, 'Moderate':2, 'Sedetary':3}\n",
        "#cholesterol\n",
        "cholesterolEnum = {'High':0, 'BorderLine':1, 'Normal':2}\n",
        "#heartDisease\n",
        "heartDiseaseEnum = {'Yes':0, 'No':1, 'Unknown': 2} # Added 'Unknown' category for value 2"
      ],
      "metadata": {
        "id": "4rMbWGNdBET2"
      },
      "execution_count": 78,
      "outputs": []
    },
    {
      "cell_type": "markdown",
      "source": [
        "### Importing Dataset"
      ],
      "metadata": {
        "id": "w9Io0X0EBqCV"
      }
    },
    {
      "cell_type": "code",
      "source": [
        "import csv\n",
        "with open('cleaned_merged_heart_dataset.csv') as csvfile:\n",
        "    lines = csv.reader(csvfile, delimiter=',')\n",
        "    dataset = list(lines)\n",
        "    data = []\n",
        "\n",
        "    # Assuming the CSV contains numerical values corresponding to the enum indices\n",
        "    for x in dataset[1:]:\n",
        "        # Convert the string values from the CSV to integers\n",
        "        data.append([\n",
        "            int(x[0]), # Age\n",
        "            int(x[1]), # Gender\n",
        "            int(x[2]), # FamilyHistory\n",
        "            int(x[3]), # Diet\n",
        "            int(x[4]), # Lifestyle\n",
        "            int(x[5]), # Cholesterol\n",
        "            int(x[6])  # HeartDisease\n",
        "        ])"
      ],
      "metadata": {
        "id": "PHGUGIs0BtZe"
      },
      "execution_count": 79,
      "outputs": []
    },
    {
      "cell_type": "code",
      "source": [
        "# Training data from machine learning to do\n",
        "data = np.array(data).astype('int16')\n",
        "N=len(data)\n",
        "\n",
        "# Debugging: Print min/max values for each column to identify invalid indices\n",
        "print(\"Min and max values in each data column:\")\n",
        "for i in range(data.shape[1]):\n",
        "    print(f\"Column {i}: Min = {np.min(data[:, i])}, Max = {np.max(data[:, i])})\")"
      ],
      "metadata": {
        "id": "ChbPsFCgaWLK",
        "colab": {
          "base_uri": "https://localhost:8080/"
        },
        "outputId": "973bb1da-b614-4a53-e543-2c1f8f3a8091"
      },
      "execution_count": 80,
      "outputs": [
        {
          "output_type": "stream",
          "name": "stdout",
          "text": [
            "Min and max values in each data column:\n",
            "Column 0: Min = 29, Max = 77)\n",
            "Column 1: Min = 0, Max = 1)\n",
            "Column 2: Min = 0, Max = 4)\n",
            "Column 3: Min = 94, Max = 200)\n",
            "Column 4: Min = 126, Max = 564)\n",
            "Column 5: Min = 0, Max = 1)\n",
            "Column 6: Min = 0, Max = 2)\n"
          ]
        }
      ]
    },
    {
      "cell_type": "code",
      "source": [
        "#input data coloumn assignment\n",
        "# Map Age to categories\n",
        "age_data = np.zeros(N, dtype=int)\n",
        "for i in range(N):\n",
        "    if data[i, 0] <= 19:\n",
        "        age_data[i] = ageEnum['Teen']\n",
        "    elif data[i, 0] <= 29:\n",
        "        age_data[i] = ageEnum['Youth']\n",
        "    elif data[i, 0] <= 49:\n",
        "        age_data[i] = ageEnum['MiddleAged']\n",
        "    elif data[i, 0] <= 69:\n",
        "        age_data[i] = ageEnum['SeniorCitizen']\n",
        "    else:\n",
        "        age_data[i] = ageEnum['SuperSeniorCitizen']\n",
        "\n",
        "p_age = bp.nodes.Dirichlet(1.0*np.ones(5))\n",
        "age = bp.nodes.Categorical(p_age, plates=(N,))\n",
        "age.observe(age_data)\n",
        "\n",
        "# Gender data already seems to be 0 or 1, matching the enum\n",
        "p_gender = bp.nodes.Dirichlet(1.0*np.ones(2))\n",
        "gender = bp.nodes.Categorical(p_gender, plates=(N,))\n",
        "gender.observe(data[:,1])\n",
        "\n",
        "# Map FamilyHistory to categories, mapping values > 2 to 'Other' (index 2)\n",
        "familyhistory_data = np.minimum(data[:, 2], 2) # Map values 3 and 4 to index 2\n",
        "\n",
        "p_familyhistory = bp.nodes.Dirichlet(1.0*np.ones(3))\n",
        "familyhistory = bp.nodes.Categorical(p_familyhistory, plates=(N,))\n",
        "familyhistory.observe(familyhistory_data)\n",
        "\n",
        "# Map Diet to categories using quantile binning (assuming 3 categories)\n",
        "diet_data = pd.qcut(data[:, 3], q=3, labels=False, duplicates='drop')\n",
        "# Ensure the labels are within the valid range [0, 2]\n",
        "diet_data = np.clip(diet_data, 0, 2)\n",
        "\n",
        "\n",
        "p_diet=bp.nodes.Dirichlet(1.0*np.ones(3))\n",
        "diet=bp.nodes.Categorical(p_diet,plates=(N,))\n",
        "diet.observe(diet_data)\n",
        "\n",
        "# Map Lifestyle to categories using quantile binning (assuming 4 categories)\n",
        "lifestyle_data = pd.qcut(data[:, 4], q=4, labels=False, duplicates='drop')\n",
        "# Ensure the labels are within the valid range [0, 3]\n",
        "lifestyle_data = np.clip(lifestyle_data, 0, 3)\n",
        "\n",
        "p_lifestyle=bp.nodes.Dirichlet(1.0*np.ones(4))\n",
        "lifestyle=bp.nodes.Categorical(p_lifestyle,plates=(N,))\n",
        "lifestyle.observe(lifestyle_data)\n",
        "\n",
        "# Map Cholesterol to categories (assuming 0->High, 1->BorderLine, others unknown/not present)\n",
        "cholesterol_data = np.zeros(N, dtype=int)\n",
        "for i in range(N):\n",
        "    if data[i, 5] == 0:\n",
        "        cholesterol_data[i] = cholesterolEnum['High']\n",
        "    elif data[i, 5] == 1:\n",
        "        cholesterol_data[i] = cholesterolEnum['BorderLine']\n",
        "    else:\n",
        "        # If there are other values besides 0 and 1, this will assign them to 0 (High)\n",
        "        # based on the initialization, which might not be ideal.\n",
        "        # Based on the min/max output, only 0 and 1 are present.\n",
        "        pass # No need to do anything if data[i, 5] is not 0 or 1, it remains 0\n",
        "\n",
        "p_cholesterol=bp.nodes.Dirichlet(1.0*np.ones(3))\n",
        "cholesterol=bp.nodes.Categorical(p_cholesterol,plates=(N,))\n",
        "cholesterol.observe(cholesterol_data)"
      ],
      "metadata": {
        "id": "R9Gt6J1ia2YM"
      },
      "execution_count": 81,
      "outputs": []
    },
    {
      "cell_type": "code",
      "source": [
        "plates=(5, 2, 2, 3, 4, 3)\n",
        "age = bp.nodes.Categorical(np.ones(5)/5, plates=(1888,))\n",
        "gender = bp.nodes.Categorical(np.ones(2)/2, plates=(1888,))\n",
        "familyhistory = bp.nodes.Categorical(np.ones(2)/2, plates=(1888,))\n",
        "diet = bp.nodes.Categorical(np.ones(3)/3, plates=(1888,))\n",
        "lifestyle = bp.nodes.Categorical(np.ones(4)/4, plates=(1888,))\n",
        "cholesterol = bp.nodes.Categorical(np.ones(3)/3, plates=(1888,))\n",
        "\n",
        "p_heartdisease = bp.nodes.Dirichlet(np.ones(3), plates=(5,2,2,3,4,3))\n",
        "\n",
        "heartdisease = bp.nodes.MultiMixture([age, gender, familyhistory, diet, lifestyle, cholesterol],bp.nodes.Categorical, p_heartdisease)\n",
        "\n",
        "\n",
        "heartdisease.observe(data[:, 6])\n",
        "p_heartdisease.update()\n"
      ],
      "metadata": {
        "id": "ss0lL9WHkLCj"
      },
      "execution_count": 82,
      "outputs": []
    },
    {
      "cell_type": "code",
      "source": [
        "#Sample Test with hard coded values\n",
        "print(\"SampleProbability\")\n",
        "print(\"Probability(HeartDisease|Age=SuperSeniorCitizen,Gender=Female,FamilyHistory=Yes, DietIntake=Medium, LifeStyle=Sedetary,Cholesterol=High)\")\n",
        "print(bp.nodes.MultiMixture([ageEnum['SuperSeniorCitizen'],genderEnum['Female'],familyHistoryEnum['Yes'], dietEnum['Medium'],lifestyleEnum['Sedetary'],cholesterolEnum['High']], bp.nodes.Categorical,p_heartdisease).get_moments()[0][heartDiseaseEnum['Yes']])"
      ],
      "metadata": {
        "colab": {
          "base_uri": "https://localhost:8080/"
        },
        "id": "uYY8NjiduONM",
        "outputId": "2b5b8810-5797-4605-d58b-ba6368b22913"
      },
      "execution_count": 83,
      "outputs": [
        {
          "output_type": "stream",
          "name": "stdout",
          "text": [
            "SampleProbability\n",
            "Probability(HeartDisease|Age=SuperSeniorCitizen,Gender=Female,FamilyHistory=Yes, DietIntake=Medium, LifeStyle=Sedetary,Cholesterol=High)\n",
            "0.4262408493108354\n"
          ]
        }
      ]
    },
    {
      "cell_type": "code",
      "source": [
        "#Interactive Test\n",
        "m= 0\n",
        "while (m==0):\n",
        "    print(\"\\n\")\n",
        "    res = bp.nodes.MultiMixture([int(input('Enter Age: '+ str(ageEnum))), int(input('Enter Gender: '+ str(genderEnum))), int(input('Enter FamilyHistory: '+str(familyHistoryEnum))), int(input('Enter dietEnum(CalorieIntake): '+str(dietEnum))), int(input('Enter Lifestyle: '+str(lifestyleEnum))), int(input('Enter Cholesterol: '+str(cholesterolEnum)))], bp.nodes.Categorical,p_heartdisease).get_moments()[0][heartDiseaseEnum['Yes']]\n",
        "\n",
        "    print(\"Probability(HeartDisease) = \" +  str(res))\n",
        "    m=int(input(\"Enter for Continue:0,Exit:1 \"))"
      ],
      "metadata": {
        "colab": {
          "base_uri": "https://localhost:8080/"
        },
        "id": "KIR6toEnwcNt",
        "outputId": "ba76914c-c4c2-4485-babe-44f066061a1a"
      },
      "execution_count": 86,
      "outputs": [
        {
          "name": "stdout",
          "output_type": "stream",
          "text": [
            "\n",
            "\n",
            "Enter Age: {'SuperSeniorCitizen': 0, 'SeniorCitizen': 1, 'MiddleAged': 2, 'Youth': 3, 'Teen': 4}0\n",
            "Enter Gender: {'Male': 0, 'Female': 1}0\n",
            "Enter FamilyHistory: {'Yes': 0, 'No': 1, 'Other': 2}0\n",
            "Enter dietEnum(CalorieIntake): {'High': 0, 'Medium': 1, 'Low': 2}1\n",
            "Enter Lifestyle: {'Athlete': 0, 'Active': 1, 'Moderate': 2, 'Sedetary': 3}0\n",
            "Enter Cholesterol: {'High': 0, 'BorderLine': 1, 'Normal': 2}0\n",
            "Probability(HeartDisease) = 0.4262408493108354\n",
            "Enter for Continue:0,Exit:1 1\n"
          ]
        }
      ]
    }
  ]
}