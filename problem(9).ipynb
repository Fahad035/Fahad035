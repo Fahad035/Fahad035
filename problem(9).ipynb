{
  "nbformat": 4,
  "nbformat_minor": 0,
  "metadata": {
    "colab": {
      "provenance": [],
      "authorship_tag": "ABX9TyO49e0z3NWzcvFxzoeVadEE",
      "include_colab_link": true
    },
    "kernelspec": {
      "name": "python3",
      "display_name": "Python 3"
    },
    "language_info": {
      "name": "python"
    }
  },
  "cells": [
    {
      "cell_type": "markdown",
      "metadata": {
        "id": "view-in-github",
        "colab_type": "text"
      },
      "source": [
        "<a href=\"https://colab.research.google.com/github/Fahad035/Fahad035/blob/main/problem(9).ipynb\" target=\"_parent\"><img src=\"https://colab.research.google.com/assets/colab-badge.svg\" alt=\"Open In Colab\"/></a>"
      ]
    },
    {
      "cell_type": "markdown",
      "source": [
        "##Write a program to implement k-Nearest Neighbor algorithm to classify the iris dataset.Print both correct and wrong predictions."
      ],
      "metadata": {
        "id": "qf2k9BGp8vin"
      }
    },
    {
      "cell_type": "code",
      "execution_count": 5,
      "metadata": {
        "colab": {
          "base_uri": "https://localhost:8080/"
        },
        "id": "x_cVslZ88mOV",
        "outputId": "8a30ab75-0a8a-4390-bfa1-e5b20b536225"
      },
      "outputs": [
        {
          "output_type": "stream",
          "name": "stdout",
          "text": [
            "   sepal-length  sepal-width  petal-length  petal-width\n",
            "1           5.1          3.5           1.4          0.2\n",
            "2           4.9          3.0           1.4          0.2\n",
            "3           4.7          3.2           1.3          0.2\n",
            "4           4.6          3.1           1.5          0.2\n",
            "5           5.0          3.6           1.4          0.2\n",
            "\n",
            "-------------------------------------------------------------\n",
            "Original Label            Predicted Label           Correct/Wrong            \n",
            "---------------------------------------------------------------\n",
            "Iris-setosa               Iris-setosa              Correct                  \n",
            "Iris-setosa               Iris-setosa              Correct                  \n",
            "Iris-virginica            Iris-virginica           Correct                  \n",
            "Iris-setosa               Iris-setosa              Correct                  \n",
            "Iris-setosa               Iris-setosa              Correct                  \n",
            "Iris-setosa               Iris-setosa              Correct                  \n",
            "Iris-versicolor           Iris-versicolor          Correct                  \n",
            "Iris-versicolor           Iris-versicolor          Correct                  \n",
            "Iris-versicolor           Iris-versicolor          Correct                  \n",
            "Iris-setosa               Iris-setosa              Correct                  \n",
            "Iris-versicolor           Iris-versicolor          Correct                  \n",
            "Iris-setosa               Iris-setosa              Correct                  \n",
            "Iris-setosa               Iris-setosa              Correct                  \n",
            "Iris-versicolor           Iris-versicolor          Correct                  \n",
            "Iris-setosa               Iris-setosa              Correct                  \n",
            "---------------------------------------------------------------\n",
            "\n",
            " Confusion Matrix:\n",
            " [[9 0 0]\n",
            " [0 5 0]\n",
            " [0 0 1]]\n",
            "---------------------------------------------------------------\n",
            "\n",
            "Classification Report:\n",
            "                  precision    recall  f1-score   support\n",
            "\n",
            "    Iris-setosa       1.00      1.00      1.00         9\n",
            "Iris-versicolor       1.00      1.00      1.00         5\n",
            " Iris-virginica       1.00      1.00      1.00         1\n",
            "\n",
            "       accuracy                           1.00        15\n",
            "      macro avg       1.00      1.00      1.00        15\n",
            "   weighted avg       1.00      1.00      1.00        15\n",
            "\n",
            "---------------------------------------------------------------\n",
            "Accuracy of the classifier is 1.00\n",
            "---------------------------------------------------------------\n"
          ]
        }
      ],
      "source": [
        "import numpy as np\n",
        "import pandas as pd\n",
        "from sklearn.neighbors import KNeighborsClassifier\n",
        "from sklearn.model_selection import train_test_split\n",
        "from sklearn import metrics\n",
        "\n",
        "#Read dataset to pandas dataframe\n",
        "names = ['sepal-length', 'sepal-width', 'petal-length', 'petal-width', 'Class']\n",
        "# Skip the header row by adding the 'header=0' parameter\n",
        "dataset = pd.read_csv(\"Iris.csv\", names=names, header=0)\n",
        "\n",
        "x = dataset.iloc[:, :-1]\n",
        "y = dataset.iloc[:, -1]\n",
        "print(x.head())\n",
        "\n",
        "x_train, x_test, y_train, y_test = train_test_split(x, y, test_size=0.10)\n",
        "\n",
        "classifier = KNeighborsClassifier(n_neighbors=5).fit(x_train, y_train)\n",
        "\n",
        "y_pred = classifier.predict(x_test)\n",
        "i = 0\n",
        "print(\"\\n-------------------------------------------------------------\")\n",
        "print('%-25s %-25s %-25s' % ('Original Label', 'Predicted Label', 'Correct/Wrong'))\n",
        "print(\"---------------------------------------------------------------\")\n",
        "for label in y_test:\n",
        "  print('%-25s %-25s' % (label, y_pred[i]), end=\"\")\n",
        "  if (label == y_pred[i]):\n",
        "    print('%-25s' % ('Correct'))\n",
        "  else:\n",
        "    print('%-25s' % ('Wrong'))\n",
        "  i = i + 1\n",
        "print(\"---------------------------------------------------------------\")\n",
        "print(\"\\n Confusion Matrix:\\n\",metrics.confusion_matrix(y_test, y_pred))\n",
        "print(\"---------------------------------------------------------------\")\n",
        "print(\"\\nClassification Report:\\n\",metrics.classification_report(y_test, y_pred))\n",
        "print(\"---------------------------------------------------------------\")\n",
        "print(\"Accuracy of the classifier is %0.2f\" % metrics.accuracy_score(y_test,y_pred))\n",
        "print(\"---------------------------------------------------------------\")"
      ]
    }
  ]
}