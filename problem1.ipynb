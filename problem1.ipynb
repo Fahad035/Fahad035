{
  "nbformat": 4,
  "nbformat_minor": 0,
  "metadata": {
    "colab": {
      "provenance": [],
      "authorship_tag": "ABX9TyOmvCVJ5hIV+n42ULq5lIKX",
      "include_colab_link": true
    },
    "kernelspec": {
      "name": "python3",
      "display_name": "Python 3"
    },
    "language_info": {
      "name": "python"
    }
  },
  "cells": [
    {
      "cell_type": "markdown",
      "metadata": {
        "id": "view-in-github",
        "colab_type": "text"
      },
      "source": [
        "<a href=\"https://colab.research.google.com/github/Fahad035/Fahad035/blob/main/problem1.ipynb\" target=\"_parent\"><img src=\"https://colab.research.google.com/assets/colab-badge.svg\" alt=\"Open In Colab\"/></a>"
      ]
    },
    {
      "cell_type": "markdown",
      "source": [
        "### a)Operation of data types in Python."
      ],
      "metadata": {
        "id": "bvG3y0a9Y83z"
      }
    },
    {
      "cell_type": "code",
      "execution_count": 1,
      "metadata": {
        "colab": {
          "base_uri": "https://localhost:8080/"
        },
        "id": "NQQJKypcYcYg",
        "outputId": "3458339a-ed38-41b9-d960-03683d8ca21b"
      },
      "outputs": [
        {
          "output_type": "stream",
          "name": "stdout",
          "text": [
            "<class 'int'>\n",
            "Hello Fahad\n",
            "<class 'str'>\n"
          ]
        }
      ],
      "source": [
        "x = 5\n",
        "print(type(x))\n",
        "\n",
        "x = str(\"Hello Fahad\")\n",
        "print(x)\n",
        "print(type(x))"
      ]
    },
    {
      "cell_type": "markdown",
      "source": [
        "###b) Different Arithmetic operations on numbers in python."
      ],
      "metadata": {
        "id": "wwD6ZwcQZYgv"
      }
    },
    {
      "cell_type": "code",
      "source": [
        "num1 = input('Enter first number: ')\n",
        "num2 = input('Enter second number: ')\n",
        "\n",
        "sum = float(num1) + float(num2)\n",
        "sub = float(num1) - float(num2)\n",
        "mul = float(num1) * float(num2)\n",
        "div = float(num1) / float(num2)\n",
        "\n",
        "print('The sum of {0} and {1} is {2}'.format(num1, num2, sum))\n",
        "\n",
        "print('The subtraction of {0} and {1} is {2}'.format(num1, num2, sub))\n",
        "\n",
        "print('The multiplication of {0} and {1} is {2}'.format(num1, num2, mul))\n",
        "\n",
        "print ('The division of {0} and {1} is {2}'.format(num1, num2, div))\n"
      ],
      "metadata": {
        "colab": {
          "base_uri": "https://localhost:8080/"
        },
        "id": "Peyw3r5RZYM-",
        "outputId": "1a3c163e-5b45-469b-da84-c0f82b45b542"
      },
      "execution_count": 2,
      "outputs": [
        {
          "output_type": "stream",
          "name": "stdout",
          "text": [
            "Enter first number: 234\n",
            "Enter second number: 345\n",
            "The sum of 234 and 345 is 579.0\n",
            "The subtraction of 234 and 345 is -111.0\n",
            "The multiplication of 234 and 345 is 80730.0\n",
            "The division of 234 and 345 is 0.6782608695652174\n"
          ]
        }
      ]
    },
    {
      "cell_type": "markdown",
      "source": [
        "###c) Create, concatenate and print a string and access substring from a given string."
      ],
      "metadata": {
        "id": "RxdhXmNbaC7Z"
      }
    },
    {
      "cell_type": "code",
      "source": [
        "x = \"Python \"\n",
        "y= \"is\"\n",
        "z = \"awesome\"\n",
        "print(x + y + z)"
      ],
      "metadata": {
        "colab": {
          "base_uri": "https://localhost:8080/"
        },
        "id": "_AcL9YNlZ-P2",
        "outputId": "18a40bf1-38cc-4b1b-9bf4-0eaf33ae7679"
      },
      "execution_count": 3,
      "outputs": [
        {
          "output_type": "stream",
          "name": "stdout",
          "text": [
            "Python isawesome\n"
          ]
        }
      ]
    },
    {
      "cell_type": "markdown",
      "source": [
        "###d) Append, and remove lists in python"
      ],
      "metadata": {
        "id": "Iz1l5wZ4aK3D"
      }
    },
    {
      "cell_type": "code",
      "source": [
        "#append method\n",
        "a= [25,\"vinay\",45,217]\n",
        "a. append(\"rohit\")\n",
        "print(a)\n",
        "\n",
        "#extend method\n",
        "b=[2,45,101]\n",
        "b.extend([\"sunny\",\"sandeep\",\"shashanka\"])\n",
        "print(b)\n",
        "\n",
        "#pop method for remove an element\n",
        "d=[12,34,56,78,89,0]\n",
        "d.pop()\n",
        "print(d)\n"
      ],
      "metadata": {
        "colab": {
          "base_uri": "https://localhost:8080/"
        },
        "id": "Bh5XfyexaN1x",
        "outputId": "8e4dacc2-4431-49c3-f1f4-8a1054eed579"
      },
      "execution_count": 4,
      "outputs": [
        {
          "output_type": "stream",
          "name": "stdout",
          "text": [
            "[25, 'vinay', 45, 217, 'rohit']\n",
            "[2, 45, 101, 'sunny', 'sandeep', 'shashanka']\n",
            "[12, 34, 56, 78, 89]\n"
          ]
        }
      ]
    },
    {
      "cell_type": "markdown",
      "source": [
        "###e) Demonstrate working with tuples in python."
      ],
      "metadata": {
        "id": "MQ1TDKvualC4"
      }
    },
    {
      "cell_type": "code",
      "source": [
        "#empty tuple\n",
        "t= ()\n",
        "print(t)\n",
        "\n",
        "tup = ('python','Java')\n",
        "print(tup)\n",
        "\n",
        "# concatenating 2 tuples\n",
        "tuple1 = (0, 1, 2, 3)\n",
        "tuple2 = ('python', 'GoEduhub')\n",
        "print(tuple1 + tuple2)\n",
        "\n",
        "#converting a list and a string into a tuple\n",
        "list1 = [0, 1, 2]\n",
        "print(tuple(list1))\n",
        "print(tuple('python'))\n",
        "\n",
        "#tuples in a loop\n",
        "tup = ('h','e','l', 'l', 'o')\n",
        "for i in tup:\n",
        "   print(i)\n"
      ],
      "metadata": {
        "colab": {
          "base_uri": "https://localhost:8080/"
        },
        "id": "V9LFZfkyaooF",
        "outputId": "eeb06cb9-ce6b-4c47-ac4b-503dfa5d1dcd"
      },
      "execution_count": 9,
      "outputs": [
        {
          "output_type": "stream",
          "name": "stdout",
          "text": [
            "()\n",
            "('python', 'Java')\n",
            "(0, 1, 2, 3, 'python', 'GoEduhub')\n",
            "(0, 1, 2)\n",
            "('p', 'y', 't', 'h', 'o', 'n')\n",
            "h\n",
            "e\n",
            "I\n",
            "T\n",
            "o\n"
          ]
        }
      ]
    },
    {
      "cell_type": "markdown",
      "source": [
        "###f) Demonstrate working with dictionaries in python"
      ],
      "metadata": {
        "id": "b8IxNmDRbqSJ"
      }
    },
    {
      "cell_type": "code",
      "source": [
        "#Create and print a dictionary :\n",
        "thisdict = {\n",
        "    \"brand\": \"Ford\",\n",
        "    \"model\": \"Mustang\",\n",
        "    \"year\": 1964\n",
        "}\n",
        "\n",
        "print(thisdict)\n",
        "\n",
        "#Dictionaries cannot have two items with the same key\n",
        "#Duplicate values will overwrite existing values\n",
        "thisdict = {\n",
        "    \"brand\": \"Ford\",\n",
        "    \"model\": \"Mustang\",\n",
        "    \"year\": 1964,\n",
        "    \"year\": 2020\n",
        "}\n",
        "print(thisdict)\n",
        "print(len(thisdict))\n",
        "\n",
        "#Accessing Items\n",
        "thisdict = {\n",
        "    \"brand\": \"Ford\",\n",
        "    \"model\": \"Mustang\",\n",
        "    \"year\": 1964\n",
        "}\n",
        "x = thisdict[\"model\"]\n",
        "print(x)"
      ],
      "metadata": {
        "colab": {
          "base_uri": "https://localhost:8080/"
        },
        "id": "mL0TXDHobsdP",
        "outputId": "b5f00b14-fc8d-49f6-c311-213771a08490"
      },
      "execution_count": 12,
      "outputs": [
        {
          "output_type": "stream",
          "name": "stdout",
          "text": [
            "{'brand': 'Ford', 'model': 'Mustang', 'year': 1964}\n",
            "{'brand': 'Ford', 'model': 'Mustang', 'year': 2020}\n",
            "3\n",
            "Mustang\n"
          ]
        }
      ]
    }
  ]
}